{
  "nbformat": 4,
  "nbformat_minor": 0,
  "metadata": {
    "colab": {
      "provenance": [],
      "authorship_tag": "ABX9TyMQTitRDfnvFYmmYT7HNRwr",
      "include_colab_link": true
    },
    "kernelspec": {
      "name": "python3",
      "display_name": "Python 3"
    },
    "language_info": {
      "name": "python"
    }
  },
  "cells": [
    {
      "cell_type": "markdown",
      "metadata": {
        "id": "view-in-github",
        "colab_type": "text"
      },
      "source": [
        "<a href=\"https://colab.research.google.com/github/TheCiceerGuy/Simulation_Modeling-Labs/blob/main/LAB_6_Linear_Congurential_Method.ipynb\" target=\"_parent\"><img src=\"https://colab.research.google.com/assets/colab-badge.svg\" alt=\"Open In Colab\"/></a>"
      ]
    },
    {
      "cell_type": "code",
      "execution_count": null,
      "metadata": {
        "colab": {
          "base_uri": "https://localhost:8080/"
        },
        "id": "jHBqxUofH5uF",
        "outputId": "51663195-44a2-4faa-ee43-dfd722e7ee7c"
      },
      "outputs": [
        {
          "output_type": "stream",
          "name": "stdout",
          "text": [
            "Enter seed value (X0): 30\n",
            "Enter multiplier (a): 12\n",
            "Enter increment (c): 21\n",
            "Enter modulus (m): 100\n",
            "Enter number of random numbers to generate: 10\n",
            "\n",
            " Generated Random Numbers [ Shishir Ghimire ]:\n",
            "X0 = 81\n",
            "X1 = 93\n",
            "X2 = 37\n",
            "X3 = 65\n",
            "X4 = 1\n",
            "X5 = 33\n",
            "X6 = 17\n",
            "X7 = 25\n",
            "X8 = 21\n",
            "X9 = 73\n"
          ]
        }
      ],
      "source": [
        "# Function to generate random numbers using Linear Congruential Method\n",
        "def linear_congruential_method(X0, a, c, m, n):\n",
        "    Xn = X0  # Initialize seed value\n",
        "    print(\"\\nGenerated Random Numbers [ Shishir Ghimire ]:\")\n",
        "    for i in range(n):\n",
        "        Xn = (a * Xn + c) % m  # LCM formula\n",
        "        print(f\"X{i} = {Xn}\")  # Print the generated number\n",
        "\n",
        "# Taking user input\n",
        "X0 = int(input(\"Enter seed value (X0): \"))\n",
        "a = int(input(\"Enter multiplier (a): \"))\n",
        "c = int(input(\"Enter increment (c): \"))\n",
        "m = int(input(\"Enter modulus (m): \"))\n",
        "n = int(input(\"Enter number of random numbers to generate: \"))\n",
        "\n",
        "# Generate and display random numbers\n",
        "linear_congruential_method(X0, a, c, m, n)\n",
        "\n",
        "\n",
        "\n"
      ]
    }
  ]
}