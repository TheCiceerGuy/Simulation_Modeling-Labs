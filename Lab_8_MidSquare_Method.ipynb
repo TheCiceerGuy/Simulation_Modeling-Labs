{
  "nbformat": 4,
  "nbformat_minor": 0,
  "metadata": {
    "colab": {
      "provenance": [],
      "authorship_tag": "ABX9TyMOf0Lu/4FZ4uclreZLP0M+",
      "include_colab_link": true
    },
    "kernelspec": {
      "name": "python3",
      "display_name": "Python 3"
    },
    "language_info": {
      "name": "python"
    }
  },
  "cells": [
    {
      "cell_type": "markdown",
      "metadata": {
        "id": "view-in-github",
        "colab_type": "text"
      },
      "source": [
        "<a href=\"https://colab.research.google.com/github/TheCiceerGuy/Simulation_Modeling-Labs/blob/main/Lab_8_MidSquare_Method.ipynb\" target=\"_parent\"><img src=\"https://colab.research.google.com/assets/colab-badge.svg\" alt=\"Open In Colab\"/></a>"
      ]
    },
    {
      "cell_type": "code",
      "execution_count": null,
      "metadata": {
        "colab": {
          "base_uri": "https://localhost:8080/"
        },
        "id": "xVt9SKIJjuUt",
        "outputId": "bace384b-5f9f-4f7c-9a3a-5a0b5544651c"
      },
      "outputs": [
        {
          "output_type": "stream",
          "name": "stdout",
          "text": [
            "Enter the seed value (n-digit number): 14\n",
            "Enter how many random numbers you want to generate: 10\n",
            "Random Numbers Generated [Shishir Ghimire]:\n",
            "X0 = 19\n",
            "X1 = 36\n",
            "X2 = 29\n",
            "X3 = 84\n",
            "X4 = 5\n",
            "X5 = 2\n",
            "X6 = 0\n",
            "X7 = 0\n",
            "X8 = 0\n",
            "X9 = 0\n"
          ]
        }
      ],
      "source": [
        "def mid_square_method(seed, n_digits, count):\n",
        "    current_number = seed\n",
        "    for i in range(count):\n",
        "        squared_number = current_number ** 2  # Square the number\n",
        "        squared_str = str(squared_number).zfill(2 * n_digits)  # Ensure at least 2n digits\n",
        "        mid_index = len(squared_str) // 2  # Find the middle\n",
        "        new_number = int(squared_str[mid_index - n_digits // 2 : mid_index + n_digits // 2])  # Extract n middle digits\n",
        "        print(f\"X{i} = {new_number}\")  # Print generated number\n",
        "        current_number = new_number  # Update for next iteration\n",
        "\n",
        "# Input seed value, number of digits, and count of numbers to generate\n",
        "seed = int(input(\"Enter the seed value (n-digit number): \"))\n",
        "n_digits = len(str(seed))  # Number of digits in the seed\n",
        "count = int(input(\"Enter how many random numbers you want to generate: \"))\n",
        "print(\"Random Numbers Generated [Shishir Ghimire]:\")  # Print name\n",
        "\n",
        "# Run the Mid Square Method\n",
        "mid_square_method(seed, n_digits, count)\n"
      ]
    }
  ]
}