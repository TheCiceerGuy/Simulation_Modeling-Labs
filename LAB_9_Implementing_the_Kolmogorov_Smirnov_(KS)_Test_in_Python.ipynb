{
  "nbformat": 4,
  "nbformat_minor": 0,
  "metadata": {
    "colab": {
      "provenance": [],
      "authorship_tag": "ABX9TyPKccLV9aR8oHJh0pKU10fi",
      "include_colab_link": true
    },
    "kernelspec": {
      "name": "python3",
      "display_name": "Python 3"
    },
    "language_info": {
      "name": "python"
    }
  },
  "cells": [
    {
      "cell_type": "markdown",
      "metadata": {
        "id": "view-in-github",
        "colab_type": "text"
      },
      "source": [
        "<a href=\"https://colab.research.google.com/github/TheCiceerGuy/Simulation_Modeling-Labs/blob/main/LAB_9_Implementing_the_Kolmogorov_Smirnov_(KS)_Test_in_Python.ipynb\" target=\"_parent\"><img src=\"https://colab.research.google.com/assets/colab-badge.svg\" alt=\"Open In Colab\"/></a>"
      ]
    },
    {
      "cell_type": "code",
      "execution_count": 7,
      "metadata": {
        "colab": {
          "base_uri": "https://localhost:8080/"
        },
        "id": "Jc5TwAUwWgY4",
        "outputId": "8ff36ad6-51ab-4b5d-e7ad-7ef7d0038ff3"
      },
      "outputs": [
        {
          "output_type": "stream",
          "name": "stdout",
          "text": [
            "Enter the number of random numbers: 5\n",
            "Enter 5 random numbers (between 0 and 1):\n",
            "Enter number 1: 0.44\n",
            "Enter number 2: 0.81\n",
            "Enter number 3: 0.14\n",
            "Enter number 4: 0.05\n",
            "Enter number 5: 0.93\n",
            "\n",
            "Sorted Random Numbers:\n",
            "0.0500 0.1400 0.4400 0.8100 0.9300\n",
            "\n",
            "Table: [Shishir Ghimire]\n",
            "------------------------------------------------------------\n",
            "Ri        i/N       (i-1)/N   Fn(Ri)    D+        D-        \n",
            "------------------------------------------------------------\n",
            "0.0500    0.2000    0.0000    0.2000    0.1500    0.0500    \n",
            "0.1400    0.4000    0.2000    0.4000    0.2600    -0.0600   \n",
            "0.4400    0.6000    0.4000    0.6000    0.1600    0.0400    \n",
            "0.8100    0.8000    0.6000    0.8000    -0.0100   0.2100    \n",
            "0.9300    1.0000    0.8000    1.0000    0.0700    0.1300    \n",
            "------------------------------------------------------------\n",
            "D+ = 0.260000\n",
            "D- = 0.210000\n",
            "D statistic (D) = 0.260000\n",
            "Critical D value (D_alpha) = 0.608210\n",
            "\n",
            "Conclusion:\n",
            "Since D_statistic < D_alpha \n",
            "Fail to reject H0: No significant difference detected. The sample follows a uniform distribution.\n"
          ]
        }
      ],
      "source": [
        "import numpy as np\n",
        "\n",
        "# User inputs the random numbers\n",
        "sample_size = int(input(\"Enter the number of random numbers: \"))\n",
        "random_numbers = []\n",
        "\n",
        "print(f\"Enter {sample_size} random numbers (between 0 and 1):\")\n",
        "for i in range(sample_size):\n",
        "    num = float(input(f\"Enter number {i+1}: \"))\n",
        "    random_numbers.append(num)\n",
        "\n",
        "random_numbers.sort()  # Sorting the numbers\n",
        "\n",
        "# Calculate Fn(Ri), i/N, and (i-1)/N\n",
        "i_values = np.arange(1, sample_size + 1)\n",
        "Fn_Ri = i_values / sample_size\n",
        "Fn_minus_1_Ri = (i_values - 1) / sample_size\n",
        "\n",
        "# Calculate D+ and D-\n",
        "D_plus = Fn_Ri - random_numbers\n",
        "D_minus = random_numbers - Fn_minus_1_Ri\n",
        "D_statistic = max(max(D_plus), max(D_minus))\n",
        "\n",
        "# Critical D value for α = 0.05 (assuming standard table values)\n",
        "D_alpha = 1.36 / np.sqrt(sample_size)\n",
        "\n",
        "# Print formatted output\n",
        "print(\"\\nSorted Random Numbers:\")\n",
        "print(\" \".join(f\"{num:.4f}\" for num in random_numbers))\n",
        "\n",
        "print(\"\\nTable: [Shishir Ghimire]\")\n",
        "print(\"------------------------------------------------------------\")\n",
        "print(f\"{'Ri':<10}{'i/N':<10}{'(i-1)/N':<10}{'Fn(Ri)':<10}{'D+':<10}{'D-':<10}\")\n",
        "print(\"------------------------------------------------------------\")\n",
        "\n",
        "for i in range(sample_size):\n",
        "    print(f\"{random_numbers[i]:<10.4f}{Fn_Ri[i]:<10.4f}{Fn_minus_1_Ri[i]:<10.4f}\"\n",
        "          f\"{Fn_Ri[i]:<10.4f}{D_plus[i]:<10.4f}{D_minus[i]:<10.4f}\")\n",
        "\n",
        "print(\"------------------------------------------------------------\")\n",
        "print(f\"D+ = {max(D_plus):.6f}\")\n",
        "print(f\"D- = {max(D_minus):.6f}\")\n",
        "print(f\"D statistic (D) = {D_statistic:.6f}\")\n",
        "print(f\"Critical D value (D_alpha) = {D_alpha:.6f}\")\n",
        "\n",
        "# Hypothesis testing\n",
        "print(\"\\nConclusion:\")\n",
        "if D_statistic < D_alpha:\n",
        "    print(\"Since D_statistic < D_alpha \\nFail to reject H0: No significant difference detected. The sample follows a uniform distribution.\")\n",
        "else:\n",
        "    print(\"Since D_statistic > D_alpha \\nReject H0: Significant difference detected. The sample does not follow a uniform distribution.\")\n"
      ]
    }
  ]
}